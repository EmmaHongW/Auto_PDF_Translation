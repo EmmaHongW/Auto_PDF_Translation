{
 "cells": [
  {
   "cell_type": "code",
   "execution_count": 1,
   "metadata": {},
   "outputs": [
    {
     "name": "stdout",
     "output_type": "stream",
     "text": [
      "Collecting pdf2image\n",
      "  Downloading pdf2image-1.17.0-py3-none-any.whl (11 kB)\n",
      "Collecting pytesseract\n",
      "  Downloading pytesseract-0.3.13-py3-none-any.whl (14 kB)\n",
      "Collecting deep_translator\n",
      "  Downloading deep_translator-1.11.4-py3-none-any.whl (42 kB)\n",
      "\u001b[K     |████████████████████████████████| 42 kB 816 kB/s  eta 0:00:01\n",
      "\u001b[?25hCollecting pdfplumber\n",
      "  Downloading pdfplumber-0.11.5-py3-none-any.whl (59 kB)\n",
      "\u001b[K     |████████████████████████████████| 59 kB 2.5 MB/s eta 0:00:01\n",
      "\u001b[?25hRequirement already satisfied: pillow in /opt/anaconda3/lib/python3.9/site-packages (9.3.0)\n",
      "Requirement already satisfied: packaging>=21.3 in /opt/anaconda3/lib/python3.9/site-packages (from pytesseract) (22.0)\n",
      "Requirement already satisfied: requests<3.0.0,>=2.23.0 in /opt/anaconda3/lib/python3.9/site-packages (from deep_translator) (2.28.1)\n",
      "Requirement already satisfied: beautifulsoup4<5.0.0,>=4.9.1 in /opt/anaconda3/lib/python3.9/site-packages (from deep_translator) (4.11.1)\n",
      "Collecting pdfminer.six==20231228\n",
      "  Downloading pdfminer.six-20231228-py3-none-any.whl (5.6 MB)\n",
      "\u001b[K     |████████████████████████████████| 5.6 MB 18.0 MB/s eta 0:00:01\n",
      "\u001b[?25hCollecting pypdfium2>=4.18.0\n",
      "  Downloading pypdfium2-4.30.1-py3-none-macosx_10_13_x86_64.whl (2.9 MB)\n",
      "\u001b[K     |████████████████████████████████| 2.9 MB 15.4 MB/s eta 0:00:01\n",
      "\u001b[?25hRequirement already satisfied: cryptography>=36.0.0 in /opt/anaconda3/lib/python3.9/site-packages (from pdfminer.six==20231228->pdfplumber) (38.0.4)\n",
      "Requirement already satisfied: charset-normalizer>=2.0.0 in /opt/anaconda3/lib/python3.9/site-packages (from pdfminer.six==20231228->pdfplumber) (2.0.4)\n",
      "Requirement already satisfied: soupsieve>1.2 in /opt/anaconda3/lib/python3.9/site-packages (from beautifulsoup4<5.0.0,>=4.9.1->deep_translator) (2.3.2.post1)\n",
      "Requirement already satisfied: cffi>=1.12 in /opt/anaconda3/lib/python3.9/site-packages (from cryptography>=36.0.0->pdfminer.six==20231228->pdfplumber) (1.15.1)\n",
      "Requirement already satisfied: pycparser in /opt/anaconda3/lib/python3.9/site-packages (from cffi>=1.12->cryptography>=36.0.0->pdfminer.six==20231228->pdfplumber) (2.21)\n",
      "Requirement already satisfied: idna<4,>=2.5 in /opt/anaconda3/lib/python3.9/site-packages (from requests<3.0.0,>=2.23.0->deep_translator) (3.4)\n",
      "Requirement already satisfied: certifi>=2017.4.17 in /opt/anaconda3/lib/python3.9/site-packages (from requests<3.0.0,>=2.23.0->deep_translator) (2023.11.17)\n",
      "Requirement already satisfied: urllib3<1.27,>=1.21.1 in /opt/anaconda3/lib/python3.9/site-packages (from requests<3.0.0,>=2.23.0->deep_translator) (1.26.14)\n",
      "Installing collected packages: pypdfium2, pdfminer.six, pytesseract, pdfplumber, pdf2image, deep-translator\n",
      "Successfully installed deep-translator-1.11.4 pdf2image-1.17.0 pdfminer.six-20231228 pdfplumber-0.11.5 pypdfium2-4.30.1 pytesseract-0.3.13\n"
     ]
    }
   ],
   "source": [
    "! pip install pdf2image pytesseract deep_translator pdfplumber pillow"
   ]
  },
  {
   "cell_type": "code",
   "execution_count": null,
   "metadata": {},
   "outputs": [],
   "source": [
    "import os\n",
    "from pdf2image import convert_from_path\n",
    "import pytesseract\n",
    "from deep_translator import GoogleTranslator\n",
    "\n",
    "# 设置 Tesseract OCR 的路径（Windows 用户）\n",
    "# pytesseract.pytesseract.tesseract_cmd = r\"C:\\Program Files\\Tesseract-OCR\\tesseract.exe\"\n",
    "\n",
    "# 设定输入/输出路径\n",
    "PDF_FILE = \"file_original.pdf\"    # 你的 PDF 文件\n",
    "OUTPUT_TEXT_FILE = \"file_original.txt\"  # 识别后的文本\n",
    "TRANSLATED_FILE = \"file_original_translated.docx\"  # 翻译后的文本\n",
    "\n",
    "# Step 1: PDF 转 图片\n",
    "print(\"📄 正在将 PDF 转换为图片...\")\n",
    "images = convert_from_path(PDF_FILE, dpi=300)\n",
    "\n",
    "# Step 2: 逐页 OCR 识别法语文本\n",
    "print(\"🔍 进行 OCR 识别...\")\n",
    "all_text = []\n",
    "for i, img in enumerate(images):\n",
    "    text = pytesseract.image_to_string(img, lang=\"fra\")  # 设定法语识别\n",
    "    all_text.append(text)\n",
    "    print(f\"✅ 第 {i+1} 页识别完成\")\n",
    "\n",
    "# 保存 OCR 识别文本\n",
    "with open(OUTPUT_TEXT_FILE, \"w\", encoding=\"utf-8\") as f:\n",
    "    f.write(\"\\n\\n\".join(all_text))\n",
    "\n",
    "print(f\"📄 OCR 识别完成，文本已保存至 {OUTPUT_TEXT_FILE}\")\n",
    "\n",
    "# Step 3: 翻译法语文本到中文\n",
    "print(\"🌍 进行翻译...\")\n",
    "translator = GoogleTranslator(source=\"fr\", target=\"zh-CN\")\n",
    "\n",
    "translated_text = \"\\n\\n\".join([translator.translate(page) for page in all_text])\n",
    "\n",
    "# 保存翻译结果\n",
    "with open(TRANSLATED_FILE, \"w\", encoding=\"utf-8\") as f:\n",
    "    f.write(translated_text)\n",
    "\n",
    "print(f\"✅ 翻译完成，已保存至 {TRANSLATED_FILE}\")\n"
   ]
  }
 ],
 "metadata": {
  "kernelspec": {
   "display_name": "Python 3",
   "language": "python",
   "name": "python3"
  },
  "language_info": {
   "codemirror_mode": {
    "name": "ipython",
    "version": 3
   },
   "file_extension": ".py",
   "mimetype": "text/x-python",
   "name": "python",
   "nbconvert_exporter": "python",
   "pygments_lexer": "ipython3",
   "version": "3.9.13"
  }
 },
 "nbformat": 4,
 "nbformat_minor": 2
}

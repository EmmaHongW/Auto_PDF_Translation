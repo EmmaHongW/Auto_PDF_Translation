{
  "cells": [
    {
      "cell_type": "code",
      "execution_count": 1,
      "metadata": {
        "id": "FH-sTkPqSqCD",
        "outputId": "de7daf0f-3bfd-4dd0-90ef-796fc7c2cde3",
        "colab": {
          "base_uri": "https://localhost:8080/"
        }
      },
      "outputs": [
        {
          "output_type": "stream",
          "name": "stdout",
          "text": [
            "Collecting pdf2image\n",
            "  Downloading pdf2image-1.17.0-py3-none-any.whl.metadata (6.2 kB)\n",
            "Collecting pytesseract\n",
            "  Downloading pytesseract-0.3.13-py3-none-any.whl.metadata (11 kB)\n",
            "Collecting deep_translator\n",
            "  Downloading deep_translator-1.11.4-py3-none-any.whl.metadata (30 kB)\n",
            "Collecting pdfplumber\n",
            "  Downloading pdfplumber-0.11.5-py3-none-any.whl.metadata (42 kB)\n",
            "\u001b[2K     \u001b[90m━━━━━━━━━━━━━━━━━━━━━━━━━━━━━━━━━━━━━━━━\u001b[0m \u001b[32m42.5/42.5 kB\u001b[0m \u001b[31m1.8 MB/s\u001b[0m eta \u001b[36m0:00:00\u001b[0m\n",
            "\u001b[?25hRequirement already satisfied: pillow in /usr/local/lib/python3.11/dist-packages (11.1.0)\n",
            "Requirement already satisfied: packaging>=21.3 in /usr/local/lib/python3.11/dist-packages (from pytesseract) (24.2)\n",
            "Requirement already satisfied: beautifulsoup4<5.0.0,>=4.9.1 in /usr/local/lib/python3.11/dist-packages (from deep_translator) (4.13.3)\n",
            "Requirement already satisfied: requests<3.0.0,>=2.23.0 in /usr/local/lib/python3.11/dist-packages (from deep_translator) (2.32.3)\n",
            "Collecting pdfminer.six==20231228 (from pdfplumber)\n",
            "  Downloading pdfminer.six-20231228-py3-none-any.whl.metadata (4.2 kB)\n",
            "Collecting pypdfium2>=4.18.0 (from pdfplumber)\n",
            "  Downloading pypdfium2-4.30.1-py3-none-manylinux_2_17_x86_64.manylinux2014_x86_64.whl.metadata (48 kB)\n",
            "\u001b[2K     \u001b[90m━━━━━━━━━━━━━━━━━━━━━━━━━━━━━━━━━━━━━━━━\u001b[0m \u001b[32m48.2/48.2 kB\u001b[0m \u001b[31m1.4 MB/s\u001b[0m eta \u001b[36m0:00:00\u001b[0m\n",
            "\u001b[?25hRequirement already satisfied: charset-normalizer>=2.0.0 in /usr/local/lib/python3.11/dist-packages (from pdfminer.six==20231228->pdfplumber) (3.4.1)\n",
            "Requirement already satisfied: cryptography>=36.0.0 in /usr/local/lib/python3.11/dist-packages (from pdfminer.six==20231228->pdfplumber) (43.0.3)\n",
            "Requirement already satisfied: soupsieve>1.2 in /usr/local/lib/python3.11/dist-packages (from beautifulsoup4<5.0.0,>=4.9.1->deep_translator) (2.6)\n",
            "Requirement already satisfied: typing-extensions>=4.0.0 in /usr/local/lib/python3.11/dist-packages (from beautifulsoup4<5.0.0,>=4.9.1->deep_translator) (4.12.2)\n",
            "Requirement already satisfied: idna<4,>=2.5 in /usr/local/lib/python3.11/dist-packages (from requests<3.0.0,>=2.23.0->deep_translator) (3.10)\n",
            "Requirement already satisfied: urllib3<3,>=1.21.1 in /usr/local/lib/python3.11/dist-packages (from requests<3.0.0,>=2.23.0->deep_translator) (2.3.0)\n",
            "Requirement already satisfied: certifi>=2017.4.17 in /usr/local/lib/python3.11/dist-packages (from requests<3.0.0,>=2.23.0->deep_translator) (2025.1.31)\n",
            "Requirement already satisfied: cffi>=1.12 in /usr/local/lib/python3.11/dist-packages (from cryptography>=36.0.0->pdfminer.six==20231228->pdfplumber) (1.17.1)\n",
            "Requirement already satisfied: pycparser in /usr/local/lib/python3.11/dist-packages (from cffi>=1.12->cryptography>=36.0.0->pdfminer.six==20231228->pdfplumber) (2.22)\n",
            "Downloading pdf2image-1.17.0-py3-none-any.whl (11 kB)\n",
            "Downloading pytesseract-0.3.13-py3-none-any.whl (14 kB)\n",
            "Downloading deep_translator-1.11.4-py3-none-any.whl (42 kB)\n",
            "\u001b[2K   \u001b[90m━━━━━━━━━━━━━━━━━━━━━━━━━━━━━━━━━━━━━━━━\u001b[0m \u001b[32m42.3/42.3 kB\u001b[0m \u001b[31m2.8 MB/s\u001b[0m eta \u001b[36m0:00:00\u001b[0m\n",
            "\u001b[?25hDownloading pdfplumber-0.11.5-py3-none-any.whl (59 kB)\n",
            "\u001b[2K   \u001b[90m━━━━━━━━━━━━━━━━━━━━━━━━━━━━━━━━━━━━━━━━\u001b[0m \u001b[32m59.5/59.5 kB\u001b[0m \u001b[31m3.7 MB/s\u001b[0m eta \u001b[36m0:00:00\u001b[0m\n",
            "\u001b[?25hDownloading pdfminer.six-20231228-py3-none-any.whl (5.6 MB)\n",
            "\u001b[2K   \u001b[90m━━━━━━━━━━━━━━━━━━━━━━━━━━━━━━━━━━━━━━━━\u001b[0m \u001b[32m5.6/5.6 MB\u001b[0m \u001b[31m37.5 MB/s\u001b[0m eta \u001b[36m0:00:00\u001b[0m\n",
            "\u001b[?25hDownloading pypdfium2-4.30.1-py3-none-manylinux_2_17_x86_64.manylinux2014_x86_64.whl (2.9 MB)\n",
            "\u001b[2K   \u001b[90m━━━━━━━━━━━━━━━━━━━━━━━━━━━━━━━━━━━━━━━━\u001b[0m \u001b[32m2.9/2.9 MB\u001b[0m \u001b[31m36.8 MB/s\u001b[0m eta \u001b[36m0:00:00\u001b[0m\n",
            "\u001b[?25hInstalling collected packages: pytesseract, pypdfium2, pdf2image, deep_translator, pdfminer.six, pdfplumber\n",
            "Successfully installed deep_translator-1.11.4 pdf2image-1.17.0 pdfminer.six-20231228 pdfplumber-0.11.5 pypdfium2-4.30.1 pytesseract-0.3.13\n"
          ]
        }
      ],
      "source": [
        "! pip install pdf2image pytesseract deep_translator pdfplumber pillow"
      ]
    },
    {
      "cell_type": "code",
      "source": [
        "!apt update && apt install -y poppler-utils"
      ],
      "metadata": {
        "id": "eeMrJhm6UPSn",
        "outputId": "f574d7dd-43ea-452c-b4dd-ca2f0ae67738",
        "colab": {
          "base_uri": "https://localhost:8080/"
        }
      },
      "execution_count": 3,
      "outputs": [
        {
          "output_type": "stream",
          "name": "stdout",
          "text": [
            "\u001b[33m\r0% [Working]\u001b[0m\r            \rGet:1 https://cloud.r-project.org/bin/linux/ubuntu jammy-cran40/ InRelease [3,632 B]\n",
            "Get:2 https://developer.download.nvidia.com/compute/cuda/repos/ubuntu2204/x86_64  InRelease [1,581 B]\n",
            "Hit:3 http://archive.ubuntu.com/ubuntu jammy InRelease\n",
            "Get:4 http://archive.ubuntu.com/ubuntu jammy-updates InRelease [128 kB]\n",
            "Get:5 https://r2u.stat.illinois.edu/ubuntu jammy InRelease [6,555 B]\n",
            "Get:6 http://security.ubuntu.com/ubuntu jammy-security InRelease [129 kB]\n",
            "Get:7 http://archive.ubuntu.com/ubuntu jammy-backports InRelease [127 kB]\n",
            "Get:8 https://developer.download.nvidia.com/compute/cuda/repos/ubuntu2204/x86_64  Packages [1,321 kB]\n",
            "Hit:9 https://ppa.launchpadcontent.net/deadsnakes/ppa/ubuntu jammy InRelease\n",
            "Hit:10 https://ppa.launchpadcontent.net/graphics-drivers/ppa/ubuntu jammy InRelease\n",
            "Get:11 https://r2u.stat.illinois.edu/ubuntu jammy/main all Packages [8,708 kB]\n",
            "Hit:12 https://ppa.launchpadcontent.net/ubuntugis/ppa/ubuntu jammy InRelease\n",
            "Get:13 http://archive.ubuntu.com/ubuntu jammy-updates/universe amd64 Packages [1,533 kB]\n",
            "Get:14 http://archive.ubuntu.com/ubuntu jammy-updates/restricted amd64 Packages [3,830 kB]\n",
            "Get:15 https://r2u.stat.illinois.edu/ubuntu jammy/main amd64 Packages [2,664 kB]\n",
            "Get:16 http://archive.ubuntu.com/ubuntu jammy-updates/main amd64 Packages [2,956 kB]\n",
            "Get:17 http://security.ubuntu.com/ubuntu jammy-security/restricted amd64 Packages [3,688 kB]\n",
            "Get:18 http://security.ubuntu.com/ubuntu jammy-security/main amd64 Packages [2,649 kB]\n",
            "Get:19 http://security.ubuntu.com/ubuntu jammy-security/universe amd64 Packages [1,235 kB]\n",
            "Fetched 29.0 MB in 4s (6,824 kB/s)\n",
            "Reading package lists... Done\n",
            "Building dependency tree... Done\n",
            "Reading state information... Done\n",
            "32 packages can be upgraded. Run 'apt list --upgradable' to see them.\n",
            "\u001b[1;33mW: \u001b[0mSkipping acquire of configured file 'main/source/Sources' as repository 'https://r2u.stat.illinois.edu/ubuntu jammy InRelease' does not seem to provide it (sources.list entry misspelt?)\u001b[0m\n",
            "Reading package lists... Done\n",
            "Building dependency tree... Done\n",
            "Reading state information... Done\n",
            "The following NEW packages will be installed:\n",
            "  poppler-utils\n",
            "0 upgraded, 1 newly installed, 0 to remove and 32 not upgraded.\n",
            "Need to get 186 kB of archives.\n",
            "After this operation, 696 kB of additional disk space will be used.\n",
            "Get:1 http://archive.ubuntu.com/ubuntu jammy-updates/main amd64 poppler-utils amd64 22.02.0-2ubuntu0.6 [186 kB]\n",
            "Fetched 186 kB in 0s (900 kB/s)\n",
            "Selecting previously unselected package poppler-utils.\n",
            "(Reading database ... 124947 files and directories currently installed.)\n",
            "Preparing to unpack .../poppler-utils_22.02.0-2ubuntu0.6_amd64.deb ...\n",
            "Unpacking poppler-utils (22.02.0-2ubuntu0.6) ...\n",
            "Setting up poppler-utils (22.02.0-2ubuntu0.6) ...\n",
            "Processing triggers for man-db (2.10.2-1) ...\n"
          ]
        }
      ]
    },
    {
      "cell_type": "code",
      "source": [
        "!apt update && apt install -y tesseract-ocr"
      ],
      "metadata": {
        "id": "fEkiMTv_VFte",
        "outputId": "10b3ddc3-fcb7-431c-fa75-b5c1330438fb",
        "colab": {
          "base_uri": "https://localhost:8080/"
        }
      },
      "execution_count": 6,
      "outputs": [
        {
          "output_type": "stream",
          "name": "stdout",
          "text": [
            "\u001b[33m\r0% [Working]\u001b[0m\r            \rHit:1 http://archive.ubuntu.com/ubuntu jammy InRelease\n",
            "\u001b[33m\r0% [Waiting for headers] [Connecting to security.ubuntu.com (185.125.190.83)] [Connected to cloud.r-\u001b[0m\r                                                                                                    \rHit:2 https://developer.download.nvidia.com/compute/cuda/repos/ubuntu2204/x86_64  InRelease\n",
            "\u001b[33m\r0% [Waiting for headers] [Connecting to security.ubuntu.com (185.125.190.83)] [Connected to cloud.r-\u001b[0m\r                                                                                                    \rHit:3 http://archive.ubuntu.com/ubuntu jammy-updates InRelease\n",
            "\u001b[33m\r0% [Waiting for headers] [Waiting for headers] [Connected to r2u.stat.illinois.edu (192.17.190.167)]\u001b[0m\r                                                                                                    \rHit:4 https://cloud.r-project.org/bin/linux/ubuntu jammy-cran40/ InRelease\n",
            "Hit:5 http://archive.ubuntu.com/ubuntu jammy-backports InRelease\n",
            "Hit:6 https://r2u.stat.illinois.edu/ubuntu jammy InRelease\n",
            "Hit:7 http://security.ubuntu.com/ubuntu jammy-security InRelease\n",
            "Hit:8 https://ppa.launchpadcontent.net/deadsnakes/ppa/ubuntu jammy InRelease\n",
            "Hit:9 https://ppa.launchpadcontent.net/graphics-drivers/ppa/ubuntu jammy InRelease\n",
            "Hit:10 https://ppa.launchpadcontent.net/ubuntugis/ppa/ubuntu jammy InRelease\n",
            "Reading package lists... Done\n",
            "Building dependency tree... Done\n",
            "Reading state information... Done\n",
            "32 packages can be upgraded. Run 'apt list --upgradable' to see them.\n",
            "\u001b[1;33mW: \u001b[0mSkipping acquire of configured file 'main/source/Sources' as repository 'https://r2u.stat.illinois.edu/ubuntu jammy InRelease' does not seem to provide it (sources.list entry misspelt?)\u001b[0m\n",
            "Reading package lists... Done\n",
            "Building dependency tree... Done\n",
            "Reading state information... Done\n",
            "The following additional packages will be installed:\n",
            "  tesseract-ocr-eng tesseract-ocr-osd\n",
            "The following NEW packages will be installed:\n",
            "  tesseract-ocr tesseract-ocr-eng tesseract-ocr-osd\n",
            "0 upgraded, 3 newly installed, 0 to remove and 32 not upgraded.\n",
            "Need to get 4,816 kB of archives.\n",
            "After this operation, 15.6 MB of additional disk space will be used.\n",
            "Get:1 http://archive.ubuntu.com/ubuntu jammy/universe amd64 tesseract-ocr-eng all 1:4.00~git30-7274cfa-1.1 [1,591 kB]\n",
            "Get:2 http://archive.ubuntu.com/ubuntu jammy/universe amd64 tesseract-ocr-osd all 1:4.00~git30-7274cfa-1.1 [2,990 kB]\n",
            "Get:3 http://archive.ubuntu.com/ubuntu jammy/universe amd64 tesseract-ocr amd64 4.1.1-2.1build1 [236 kB]\n",
            "Fetched 4,816 kB in 0s (12.4 MB/s)\n",
            "Selecting previously unselected package tesseract-ocr-eng.\n",
            "(Reading database ... 124977 files and directories currently installed.)\n",
            "Preparing to unpack .../tesseract-ocr-eng_1%3a4.00~git30-7274cfa-1.1_all.deb ...\n",
            "Unpacking tesseract-ocr-eng (1:4.00~git30-7274cfa-1.1) ...\n",
            "Selecting previously unselected package tesseract-ocr-osd.\n",
            "Preparing to unpack .../tesseract-ocr-osd_1%3a4.00~git30-7274cfa-1.1_all.deb ...\n",
            "Unpacking tesseract-ocr-osd (1:4.00~git30-7274cfa-1.1) ...\n",
            "Selecting previously unselected package tesseract-ocr.\n",
            "Preparing to unpack .../tesseract-ocr_4.1.1-2.1build1_amd64.deb ...\n",
            "Unpacking tesseract-ocr (4.1.1-2.1build1) ...\n",
            "Setting up tesseract-ocr-eng (1:4.00~git30-7274cfa-1.1) ...\n",
            "Setting up tesseract-ocr-osd (1:4.00~git30-7274cfa-1.1) ...\n",
            "Setting up tesseract-ocr (4.1.1-2.1build1) ...\n",
            "Processing triggers for man-db (2.10.2-1) ...\n"
          ]
        }
      ]
    },
    {
      "cell_type": "code",
      "source": [
        "!apt update && apt install -y tesseract-ocr tesseract-ocr-fra"
      ],
      "metadata": {
        "id": "uLE1vgf9Vot9",
        "outputId": "ed2ae934-a695-4e3d-ae6b-bcb90215f2a1",
        "colab": {
          "base_uri": "https://localhost:8080/"
        }
      },
      "execution_count": 9,
      "outputs": [
        {
          "output_type": "stream",
          "name": "stdout",
          "text": [
            "\u001b[33m\r0% [Working]\u001b[0m\r            \rHit:1 http://archive.ubuntu.com/ubuntu jammy InRelease\n",
            "\u001b[33m\r0% [Waiting for headers] [Waiting for headers] [Connected to cloud.r-project.org (18.160.213.101)] [\u001b[0m\r                                                                                                    \rHit:2 http://security.ubuntu.com/ubuntu jammy-security InRelease\n",
            "\u001b[33m\r0% [Waiting for headers] [Connected to cloud.r-project.org (18.160.213.101)] [Connected to r2u.stat.\u001b[0m\r                                                                                                    \rHit:3 http://archive.ubuntu.com/ubuntu jammy-updates InRelease\n",
            "\u001b[33m\r0% [Waiting for headers] [Waiting for headers] [Connected to r2u.stat.illinois.edu (192.17.190.167)]\u001b[0m\r                                                                                                    \rHit:4 https://cloud.r-project.org/bin/linux/ubuntu jammy-cran40/ InRelease\n",
            "\u001b[33m\r0% [Waiting for headers] [Connected to r2u.stat.illinois.edu (192.17.190.167)] [Waiting for headers]\u001b[0m\r                                                                                                    \rHit:5 http://archive.ubuntu.com/ubuntu jammy-backports InRelease\n",
            "Hit:6 https://developer.download.nvidia.com/compute/cuda/repos/ubuntu2204/x86_64  InRelease\n",
            "Hit:7 https://r2u.stat.illinois.edu/ubuntu jammy InRelease\n",
            "Hit:8 https://ppa.launchpadcontent.net/deadsnakes/ppa/ubuntu jammy InRelease\n",
            "Hit:9 https://ppa.launchpadcontent.net/graphics-drivers/ppa/ubuntu jammy InRelease\n",
            "Hit:10 https://ppa.launchpadcontent.net/ubuntugis/ppa/ubuntu jammy InRelease\n",
            "Reading package lists... Done\n",
            "Building dependency tree... Done\n",
            "Reading state information... Done\n",
            "32 packages can be upgraded. Run 'apt list --upgradable' to see them.\n",
            "\u001b[1;33mW: \u001b[0mSkipping acquire of configured file 'main/source/Sources' as repository 'https://r2u.stat.illinois.edu/ubuntu jammy InRelease' does not seem to provide it (sources.list entry misspelt?)\u001b[0m\n",
            "Reading package lists... Done\n",
            "Building dependency tree... Done\n",
            "Reading state information... Done\n",
            "tesseract-ocr is already the newest version (4.1.1-2.1build1).\n",
            "The following NEW packages will be installed:\n",
            "  tesseract-ocr-fra\n",
            "0 upgraded, 1 newly installed, 0 to remove and 32 not upgraded.\n",
            "Need to get 527 kB of archives.\n",
            "After this operation, 1,145 kB of additional disk space will be used.\n",
            "Get:1 http://archive.ubuntu.com/ubuntu jammy/universe amd64 tesseract-ocr-fra all 1:4.00~git30-7274cfa-1.1 [527 kB]\n",
            "Fetched 527 kB in 1s (584 kB/s)\n",
            "Selecting previously unselected package tesseract-ocr-fra.\n",
            "(Reading database ... 125024 files and directories currently installed.)\n",
            "Preparing to unpack .../tesseract-ocr-fra_1%3a4.00~git30-7274cfa-1.1_all.deb ...\n",
            "Unpacking tesseract-ocr-fra (1:4.00~git30-7274cfa-1.1) ...\n",
            "Setting up tesseract-ocr-fra (1:4.00~git30-7274cfa-1.1) ...\n"
          ]
        }
      ]
    },
    {
      "cell_type": "code",
      "execution_count": 10,
      "metadata": {
        "collapsed": true,
        "id": "NJWMv4pjSqCF",
        "outputId": "da6816a6-3cad-407d-95f6-6e465aff1306",
        "colab": {
          "base_uri": "https://localhost:8080/",
          "height": 1000
        }
      },
      "outputs": [
        {
          "output_type": "stream",
          "name": "stdout",
          "text": [
            "📄 正在将 PDF 转换为图片...\n",
            "🔍 进行 OCR 识别...\n",
            "✅ 第 1 页识别完成\n",
            "✅ 第 2 页识别完成\n",
            "✅ 第 3 页识别完成\n",
            "✅ 第 4 页识别完成\n",
            "✅ 第 5 页识别完成\n",
            "✅ 第 6 页识别完成\n",
            "✅ 第 7 页识别完成\n",
            "✅ 第 8 页识别完成\n",
            "✅ 第 9 页识别完成\n",
            "✅ 第 10 页识别完成\n",
            "✅ 第 11 页识别完成\n",
            "✅ 第 12 页识别完成\n",
            "✅ 第 13 页识别完成\n",
            "📄 OCR 识别完成，文本已保存至 /content/file_original.txt\n",
            "🌍 进行翻译...\n"
          ]
        },
        {
          "output_type": "error",
          "ename": "NotValidLength",
          "evalue": "Page 9 / 13\n\nCette résolution est adoptée à la majorité simple de 17302 voix sur 34602 voix exprimées, conformément à l'article 24 de la loi du\n10 juillet 1965.\n\n \n\nRESOLUTION N° 7 : DECISION A PRENDRE RELATIVE AU FINANCEMENT DES TRAVAUX @G\nVOTES AUX RESOLUTIONS 4, 5 ET 6 PAR LE FONDS TRAVAUX (MAJORITE DE L'ARTICLE\n25/25-1 DE LA LOI DU 10 JUILLET 1965)\n\nClé de répartition : 0003-1 Charges communes générales - Article 25 / Article 25-1\n\nPréambule : le montant du fond ALUR disponible au 01/07/2024 s'élève à 67 469,65 €\n\nA la suite du vote des travaux de réfection complète de l'étanchéité des terrasses du 8ème étage, bâtiment C,\ncôté jardin comprenant le remplacement des séparations et la réhausse des garde-corps décidés aux\nrésolutions 4 et 5 de la présente assemblée générale, pour un budget global de 186 697,06 Æ£uros, et\nconformément aux dispositions de l'article 14-2-1 de la loi du 10 juillet 1965 relatives à l'utilisation du fonds\ntravaux, l'assemblée générale décide d ‘affecter au financement de ces travaux la somme de 67 469,65 € euros\ncorrespondant aux montants appelés à la date du 01/07/2024.\n\n- selon l'échéancier suivant :\n\n- Montant : 50%, exigibilité : 15/10/2024\n- Montant : 50%, exigibilité : 15/12/2024\n\nVote sur la proposition :\n\nPrésents et Représentés ou 82 43066 voix / 100460 voix\nayant voté par correspondance :\n\nOnt voté contre : 2 521 voix / 100460 voix\nAbstentions : 6 7797 voix / 100460 voix\n\nSuccession BATTAIL . (7139), Mme BETTAN NICOLE (172), Mme BOUTOT YVETTE (162), M. CADOCH DELMAR Laurent (118), M. et Mme COIRATON\nBRUNO (37), M. HERSCOVICI ALAIN (169)\nOnt voté pour : 74 34748 voix / 100460 voix\n\nMme AGIUS Bénédicte (467), Mme AGUT Sophie (268), Mme ALBERICCI CHARLINE (268), MM. BENGHEZAL Karim et Rachid (252), M. BLOIS BERNARD\nreprésenté par M. et Mme JUSSEAUME LAURENT (37), M. et Mme BOBTCHEFF THOMAS représentés par M. et Mme VINCENT JEAN-PAUL (1061), M.\nBOURGAREL GILLES représenté par M. MAEDER Jean Philippe (454), Mme CHIU MARIE-ANGE (420), M. et Mme CHO SEONG représentés par M. et Mme\nMOULIN ET PATUREAU PHILIPPE ET SEVERINE (97), M. et Mme CINTRAT CHAREES (657), M. CLEMENT Christophe représenté par M. et Mme PORTIER\nTHIERRY ET ROESCH JESSICA (37), M. CLEMENT CHRISTOPHE représenté par M. et Mme PORTIER THIERRY ET ROESCH JESSICA (536), Mme\nCOUDERC COLETTE (466), M. et Mme DECALUWE ET DUPUY . (301), M. DELAGNEAU Christian représenté par M. et Mme MOULIN ET PATUREAU\nPHILIPPE ET SEVERINE (286), Mme DER AGOBIAN Julie (276), M. et Mme DERRIEN CHRISTOPHE (288), Mme DOS SANTOS Nair (311), Mme DUCOUP\nJACQUELINE représentée par M. et Mme CINTRAT CHARLES (474), Mme DUPUY MARIE CECILE (443), M. et Mme FROMAGEAU ARMAND représentés par\nMme GILBERTAS CLAUDINE (704), M. et Mme GAILLAGOT ET MELNICK Sébastien et Marina (390), Mme GARDETTE ANNIE représentée par Mme DUPUY\nMARIE CECILE (45), Mme GILBERTAS CLAUDINE (516), Mme GODARD DELPHINE représentée par Mme GILBERTAS CLAUDINE (594), Société GOLVAN\n(362), Mme GOUJON CATHERINE (415), M. GUEUDRY CHARLES (644), M. et Mme GUEUDRY CHARLES ET KARLA (37), Indivision GURÉGHIAN C/O MME\nGURÉGHIAN Claudine représentée par Mme GILBERTAS CLAUDINE (260), M. et Mme GURFINKIEL-VO DINH LIONEL OÙ JULIE représentés par M.\nROUZIOUX Michel (531), M. et Mme HAUTCOEUR MICHEL (330), Mme HAVLOUDJIAN CHRYSTELE représentée par Mme GILBERTAS CLAUDINE (260),\nIndivision HWANG-VOISIN BENOIT ET ODILE représentée par Mme KONQUI MICHELE (636), Succession INTHER RENEE représentée par M. et Mme\nJUSSEAUME LAURENT (426), Mme JOULIN Anne (518), M. et Mme JUSSEAUME LAURENT (657), Mme KONQUI MICHELE (332), M. LABROUSSE Emmanuel\n(356), M. LAGRANGE Vianney représenté par M. et Mme VINCENT JEAN-PAUL (1308), M. LAPADU PHILIPPE représenté par M. MAEDER Jean Philippe (726),\nMme LASRY MADELEINE (1176), M. LE BIHAN ADRIEN (332), M. LE GAL Anthony (349), Mme LEPOUTRE MARIE LAURE (365), Mme LIGER SUZANNE (349),\nM. et Mme MACCALLI DANIEL représentés par M. et Mme VINCENT JEAN-PAUL (416), M. MAEDER Jean Philippe (530), M. et Mme MALE RENE PIERRE\nreprésentés par M. et Mme JUSSEAUME LAURENT (696), Mme MERLIER CATHERINE (268), Monsieur MOREAU CLAUDE (481), Indivision MORIETTE (302),\nIndivision MORINEAU Gilles et Mireille C/O MR MORINEAU Gilles (330), M. et Mme MOULIN ET PATUREAU PHILIPPE ET SEVERINE (493), M. MOURIER\nEMMANUEL (162), SC! PARIS-VILLIERS (410), Mme PETERSCHMITT MARIE-CHRISTINE (252), Mme PEYRAC FRANCOISE (252), M. et Mme PORTIER\nTHIERRY ET ROESCH JESSICA (422), Mme RIBAYRE VERONIQUE représentée par Mme DUPUY MARIE CECILE (750), Indivision ROBERT (288), Mme\nROCHE GHISLAINE représentée par M. et Mme JUSSEAUME LAURENT (37), M. et Mme ROGGERI Bruno et Marion (849), Mme ROULEAU CHANTAL (276), M.\nROUZIOUX Michel (1277), Mme RUEDAS-TRAN C/O FONCIA . (295), M. et Mme SOLLET - SLIM Quentin et Yara (453), M. et Mme STRETZ JEAN MICHEL\n(1033), M. et Mme TERRISSE GERARD représentés par M. MAEDER Jean Philippe (721), Société THE SOCLAGE (1071), Mme TIBERGHIEN Michèle (931), M.\net Mme VEYSSIERE Guy ET Marie-Christine (252), M. et Mme VINCENT JEAN-PAUL (1046), M. WELTE Jean-Baptiste (438)\n\nCette résolution n'est pas adoptée à la majorité absolue de 50231 voix sur 100460 voix, conformément à l'article 25 de la loi du 10\n\njuillet 1965. Cependant, le projet présenté ayant obtenu l'adhésion d'au moins le tiers des voix du syndicat, l'assemblée procède\nimmédiatement à un second vote aux conditions de majorité de l'article 24 de la loi du 10 juillet 1965.\n\nSecond vote sur la proposition :\n\nPrésents et Représentés ou 82 43066 voix / 100460 voix\n\nayant voté par correspondance :\n\nOnt voté contre : 2 521 Voix / 100460 voix\nM. et Mme BHAIDJY Naziraly et Asikaly (81), M. et Mme NICAUD BENJAMIN (440)\n\nAbstentions : 6 7797 voix / 100460 voix\n\nSuccession BATTAIL . (7139), Mme BETTAN NICOLE (172), Mme BOUTOT YVETTE (162), M. CADOCH DELMAR Laurent (118), M. et Mme COIRATON\nBRUNO (37), M. HERSCOVICI ALAIN (169)\n\nOnt voté pour : 74 34748 voix / 100460 voix\n\nCette résolution est adoptée à la majorité simple de 17635 voix sur 35269 voix ee” à l'article 24 de la loi du\n\n10 juillet 1965. ME\n\nŸ\n\nè\n\nPV AG LE VERMANDOIS\n\nProcès-verbal! conforme à l'original dûment signé par le président, le ou les scrutateurs s'il en a été désigné(s) et le secrétaire Paraphes\n\f --> Text length need to be between 0 and 5000 characters",
          "traceback": [
            "\u001b[0;31m---------------------------------------------------------------------------\u001b[0m",
            "\u001b[0;31mNotValidLength\u001b[0m                            Traceback (most recent call last)",
            "\u001b[0;32m<ipython-input-10-68b915f01c1e>\u001b[0m in \u001b[0;36m<cell line: 0>\u001b[0;34m()\u001b[0m\n\u001b[1;32m     37\u001b[0m \u001b[0mtranslator\u001b[0m \u001b[0;34m=\u001b[0m \u001b[0mGoogleTranslator\u001b[0m\u001b[0;34m(\u001b[0m\u001b[0msource\u001b[0m\u001b[0;34m=\u001b[0m\u001b[0;34m\"fr\"\u001b[0m\u001b[0;34m,\u001b[0m \u001b[0mtarget\u001b[0m\u001b[0;34m=\u001b[0m\u001b[0;34m\"zh-CN\"\u001b[0m\u001b[0;34m)\u001b[0m\u001b[0;34m\u001b[0m\u001b[0;34m\u001b[0m\u001b[0m\n\u001b[1;32m     38\u001b[0m \u001b[0;34m\u001b[0m\u001b[0m\n\u001b[0;32m---> 39\u001b[0;31m \u001b[0mtranslated_text\u001b[0m \u001b[0;34m=\u001b[0m \u001b[0;34m\"\\n\\n\"\u001b[0m\u001b[0;34m.\u001b[0m\u001b[0mjoin\u001b[0m\u001b[0;34m(\u001b[0m\u001b[0;34m[\u001b[0m\u001b[0mtranslator\u001b[0m\u001b[0;34m.\u001b[0m\u001b[0mtranslate\u001b[0m\u001b[0;34m(\u001b[0m\u001b[0mpage\u001b[0m\u001b[0;34m)\u001b[0m \u001b[0;32mfor\u001b[0m \u001b[0mpage\u001b[0m \u001b[0;32min\u001b[0m \u001b[0mall_text\u001b[0m\u001b[0;34m]\u001b[0m\u001b[0;34m)\u001b[0m\u001b[0;34m\u001b[0m\u001b[0;34m\u001b[0m\u001b[0m\n\u001b[0m\u001b[1;32m     40\u001b[0m \u001b[0;34m\u001b[0m\u001b[0m\n\u001b[1;32m     41\u001b[0m \u001b[0;31m# 保存翻译结果\u001b[0m\u001b[0;34m\u001b[0m\u001b[0;34m\u001b[0m\u001b[0m\n",
            "\u001b[0;32m<ipython-input-10-68b915f01c1e>\u001b[0m in \u001b[0;36m<listcomp>\u001b[0;34m(.0)\u001b[0m\n\u001b[1;32m     37\u001b[0m \u001b[0mtranslator\u001b[0m \u001b[0;34m=\u001b[0m \u001b[0mGoogleTranslator\u001b[0m\u001b[0;34m(\u001b[0m\u001b[0msource\u001b[0m\u001b[0;34m=\u001b[0m\u001b[0;34m\"fr\"\u001b[0m\u001b[0;34m,\u001b[0m \u001b[0mtarget\u001b[0m\u001b[0;34m=\u001b[0m\u001b[0;34m\"zh-CN\"\u001b[0m\u001b[0;34m)\u001b[0m\u001b[0;34m\u001b[0m\u001b[0;34m\u001b[0m\u001b[0m\n\u001b[1;32m     38\u001b[0m \u001b[0;34m\u001b[0m\u001b[0m\n\u001b[0;32m---> 39\u001b[0;31m \u001b[0mtranslated_text\u001b[0m \u001b[0;34m=\u001b[0m \u001b[0;34m\"\\n\\n\"\u001b[0m\u001b[0;34m.\u001b[0m\u001b[0mjoin\u001b[0m\u001b[0;34m(\u001b[0m\u001b[0;34m[\u001b[0m\u001b[0mtranslator\u001b[0m\u001b[0;34m.\u001b[0m\u001b[0mtranslate\u001b[0m\u001b[0;34m(\u001b[0m\u001b[0mpage\u001b[0m\u001b[0;34m)\u001b[0m \u001b[0;32mfor\u001b[0m \u001b[0mpage\u001b[0m \u001b[0;32min\u001b[0m \u001b[0mall_text\u001b[0m\u001b[0;34m]\u001b[0m\u001b[0;34m)\u001b[0m\u001b[0;34m\u001b[0m\u001b[0;34m\u001b[0m\u001b[0m\n\u001b[0m\u001b[1;32m     40\u001b[0m \u001b[0;34m\u001b[0m\u001b[0m\n\u001b[1;32m     41\u001b[0m \u001b[0;31m# 保存翻译结果\u001b[0m\u001b[0;34m\u001b[0m\u001b[0;34m\u001b[0m\u001b[0m\n",
            "\u001b[0;32m/usr/local/lib/python3.11/dist-packages/deep_translator/google.py\u001b[0m in \u001b[0;36mtranslate\u001b[0;34m(self, text, **kwargs)\u001b[0m\n\u001b[1;32m     55\u001b[0m         \u001b[0;34m@\u001b[0m\u001b[0;32mreturn\u001b[0m\u001b[0;34m:\u001b[0m \u001b[0mstr\u001b[0m\u001b[0;34m:\u001b[0m \u001b[0mtranslated\u001b[0m \u001b[0mtext\u001b[0m\u001b[0;34m\u001b[0m\u001b[0;34m\u001b[0m\u001b[0m\n\u001b[1;32m     56\u001b[0m         \"\"\"\n\u001b[0;32m---> 57\u001b[0;31m         \u001b[0;32mif\u001b[0m \u001b[0mis_input_valid\u001b[0m\u001b[0;34m(\u001b[0m\u001b[0mtext\u001b[0m\u001b[0;34m,\u001b[0m \u001b[0mmax_chars\u001b[0m\u001b[0;34m=\u001b[0m\u001b[0;36m5000\u001b[0m\u001b[0;34m)\u001b[0m\u001b[0;34m:\u001b[0m\u001b[0;34m\u001b[0m\u001b[0;34m\u001b[0m\u001b[0m\n\u001b[0m\u001b[1;32m     58\u001b[0m             \u001b[0mtext\u001b[0m \u001b[0;34m=\u001b[0m \u001b[0mtext\u001b[0m\u001b[0;34m.\u001b[0m\u001b[0mstrip\u001b[0m\u001b[0;34m(\u001b[0m\u001b[0;34m)\u001b[0m\u001b[0;34m\u001b[0m\u001b[0;34m\u001b[0m\u001b[0m\n\u001b[1;32m     59\u001b[0m             \u001b[0;32mif\u001b[0m \u001b[0mself\u001b[0m\u001b[0;34m.\u001b[0m\u001b[0m_same_source_target\u001b[0m\u001b[0;34m(\u001b[0m\u001b[0;34m)\u001b[0m \u001b[0;32mor\u001b[0m \u001b[0mis_empty\u001b[0m\u001b[0;34m(\u001b[0m\u001b[0mtext\u001b[0m\u001b[0;34m)\u001b[0m\u001b[0;34m:\u001b[0m\u001b[0;34m\u001b[0m\u001b[0;34m\u001b[0m\u001b[0m\n",
            "\u001b[0;32m/usr/local/lib/python3.11/dist-packages/deep_translator/validate.py\u001b[0m in \u001b[0;36mis_input_valid\u001b[0;34m(text, min_chars, max_chars)\u001b[0m\n\u001b[1;32m     39\u001b[0m         \u001b[0;32mraise\u001b[0m \u001b[0mNotValidPayload\u001b[0m\u001b[0;34m(\u001b[0m\u001b[0mtext\u001b[0m\u001b[0;34m)\u001b[0m\u001b[0;34m\u001b[0m\u001b[0;34m\u001b[0m\u001b[0m\n\u001b[1;32m     40\u001b[0m     \u001b[0;32mif\u001b[0m \u001b[0mmax_chars\u001b[0m \u001b[0;32mand\u001b[0m \u001b[0;34m(\u001b[0m\u001b[0;32mnot\u001b[0m \u001b[0mmin_chars\u001b[0m \u001b[0;34m<=\u001b[0m \u001b[0mlen\u001b[0m\u001b[0;34m(\u001b[0m\u001b[0mtext\u001b[0m\u001b[0;34m)\u001b[0m \u001b[0;34m<\u001b[0m \u001b[0mmax_chars\u001b[0m\u001b[0;34m)\u001b[0m\u001b[0;34m:\u001b[0m\u001b[0;34m\u001b[0m\u001b[0;34m\u001b[0m\u001b[0m\n\u001b[0;32m---> 41\u001b[0;31m         \u001b[0;32mraise\u001b[0m \u001b[0mNotValidLength\u001b[0m\u001b[0;34m(\u001b[0m\u001b[0mtext\u001b[0m\u001b[0;34m,\u001b[0m \u001b[0mmin_chars\u001b[0m\u001b[0;34m,\u001b[0m \u001b[0mmax_chars\u001b[0m\u001b[0;34m)\u001b[0m\u001b[0;34m\u001b[0m\u001b[0;34m\u001b[0m\u001b[0m\n\u001b[0m\u001b[1;32m     42\u001b[0m \u001b[0;34m\u001b[0m\u001b[0m\n\u001b[1;32m     43\u001b[0m     \u001b[0;32mreturn\u001b[0m \u001b[0;32mTrue\u001b[0m\u001b[0;34m\u001b[0m\u001b[0;34m\u001b[0m\u001b[0m\n",
            "\u001b[0;31mNotValidLength\u001b[0m: Page 9 / 13\n\nCette résolution est adoptée à la majorité simple de 17302 voix sur 34602 voix exprimées, conformément à l'article 24 de la loi du\n10 juillet 1965.\n\n \n\nRESOLUTION N° 7 : DECISION A PRENDRE RELATIVE AU FINANCEMENT DES TRAVAUX @G\nVOTES AUX RESOLUTIONS 4, 5 ET 6 PAR LE FONDS TRAVAUX (MAJORITE DE L'ARTICLE\n25/25-1 DE LA LOI DU 10 JUILLET 1965)\n\nClé de répartition : 0003-1 Charges communes générales - Article 25 / Article 25-1\n\nPréambule : le montant du fond ALUR disponible au 01/07/2024 s'élève à 67 469,65 €\n\nA la suite du vote des travaux de réfection complète de l'étanchéité des terrasses du 8ème étage, bâtiment C,\ncôté jardin comprenant le remplacement des séparations et la réhausse des garde-corps décidés aux\nrésolutions 4 et 5 de la présente assemblée générale, pour un budget global de 186 697,06 Æ£uros, et\nconformément aux dispositions de l'article 14-2-1 de la loi du 10 juillet 1965 relatives à l'utilisation du fonds\ntravaux, l'assemblée générale décide d ‘affecter au financement de ces travaux la somme de 67 469,65 € euros\ncorrespondant aux montants appelés à la date du 01/07/2024.\n\n- selon l'échéancier suivant :\n\n- Montant : 50%, exigibilité : 15/10/2024\n- Montant : 50%, exigibilité : 15/12/2024\n\nVote sur la proposition :\n\nPrésents et Représentés ou 82 43066 voix / 100460 voix\nayant voté par correspondance :\n\nOnt voté contre : 2 521 voix / 100460 voix\nAbstentions : 6 7797 voix / 100460 voix\n\nSuccession BATTAIL . (7139), Mme BETTAN NICOLE (172), Mme BOUTOT YVETTE (162), M. CADOCH DELMAR Laurent (118), M. et Mme COIRATON\nBRUNO (37), M. HERSCOVICI ALAIN (169)\nOnt voté pour : 74 34748 voix / 100460 voix\n\nMme AGIUS Bénédicte (467), Mme AGUT Sophie (268), Mme ALBERICCI CHARLINE (268), MM. BENGHEZAL Karim et Rachid (252), M. BLOIS BERNARD\nreprésenté par M. et Mme JUSSEAUME LAURENT (37), M. et Mme BOBTCHEFF THOMAS représentés par M. et Mme VINCENT JEAN-PAUL (1061), M.\nBOURGAREL GILLES représenté par M. MAEDER Jean Philippe (454), Mme CHIU MARIE-ANGE (420), M. et Mme CHO SEONG représentés par M. et Mme\nMOULIN ET PATUREAU PHILIPPE ET SEVERINE (97), M. et Mme CINTRAT CHAREES (657), M. CLEMENT Christophe représenté par M. et Mme PORTIER\nTHIERRY ET ROESCH JESSICA (37), M. CLEMENT CHRISTOPHE représenté par M. et Mme PORTIER THIERRY ET ROESCH JESSICA (536), Mme\nCOUDERC COLETTE (466), M. et Mme DECALUWE ET DUPUY . (301), M. DELAGNEAU Christian représenté par M. et Mme MOULIN ET PATUREAU\nPHILIPPE ET SEVERINE (286), Mme DER AGOBIAN Julie (276), M. et Mme DERRIEN CHRISTOPHE (288), Mme DOS SANTOS Nair (311), Mme DUCOUP\nJACQUELINE représentée par M. et Mme CINTRAT CHARLES (474), Mme DUPUY MARIE CECILE (443), M. et Mme FROMAGEAU ARMAND représentés par\nMme GILBERTAS CLAUDINE (704), M. et Mme GAILLAGOT ET MELNICK Sébastien et Marina (390), Mme GARDETTE ANNIE représentée par Mme DUPUY\nMARIE CECILE (45), Mme GILBERTAS CLAUDINE (516), Mme GODARD DELPHINE représentée par Mme GILBERTAS CLAUDINE (594), Société GOLVAN\n(362), Mme GOUJON CATHERINE (415), M. GUEUDRY CHARLES (644), M. et Mme GUEUDRY CHARLES ET KARLA (37), Indivision GURÉGHIAN C/O MME\nGURÉGHIAN Claudine représentée par Mme GILBERTAS CLAUDINE (260), M. et Mme GURFINKIEL-VO DINH LIONEL OÙ JULIE représentés par M.\nROUZIOUX Michel (531), M. et Mme HAUTCOEUR MICHEL (330), Mme HAVLOUDJIAN CHRYSTELE représentée par Mme GILBERTAS CLAUDINE (260),\nIndivision HWANG-VOISIN BENOIT ET ODILE représentée par Mme KONQUI MICHELE (636), Succession INTHER RENEE représentée par M. et Mme\nJUSSEAUME LAURENT (426), Mme JOULIN Anne (518), M. et Mme JUSSEAUME LAURENT (657), Mme KONQUI MICHELE (332), M. LABROUSSE Emmanuel\n(356), M. LAGRANGE Vianney représenté par M. et Mme VINCENT JEAN-PAUL (1308), M. LAPADU PHILIPPE représenté par M. MAEDER Jean Philippe (726),\nMme LASRY MADELEINE (1176), M. LE BIHAN ADRIEN (332), M. LE GAL Anthony (349), Mme LEPOUTRE MARIE LAURE (365), Mme LIGER SUZANNE (349),\nM. et Mme MACCALLI DANIEL représentés par M. et Mme VINCENT JEAN-PAUL (416), M. MAEDER Jean Philippe (530), M. et Mme MALE RENE PIERRE\nreprésentés par M. et Mme JUSSEAUME LAURENT (696), Mme MERLIER CATHERINE (268), Monsieur MOREAU CLAUDE (481), Indivision MORIETTE (302),\nIndivision MORINEAU Gilles et Mireille C/O MR MORINEAU Gilles (330), M. et Mme MOULIN ET PATUREAU PHILIPPE ET SEVERINE (493), M. MOURIER\nEMMANUEL (162), SC! PARIS-VILLIERS (410), Mme PETERSCHMITT MARIE-CHRISTINE (252), Mme PEYRAC FRANCOISE (252), M. et Mme PORTIER\nTHIERRY ET ROESCH JESSICA (422), Mme RIBAYRE VERONIQUE représentée par Mme DUPUY MARIE CECILE (750), Indivision ROBERT (288), Mme\nROCHE GHISLAINE représentée par M. et Mme JUSSEAUME LAURENT (37), M. et Mme ROGGERI Bruno et Marion (849), Mme ROULEAU CHANTAL (276), M.\nROUZIOUX Michel (1277), Mme RUEDAS-TRAN C/O FONCIA . (295), M. et Mme SOLLET - SLIM Quentin et Yara (453), M. et Mme STRETZ JEAN MICHEL\n(1033), M. et Mme TERRISSE GERARD représentés par M. MAEDER Jean Philippe (721), Société THE SOCLAGE (1071), Mme TIBERGHIEN Michèle (931), M.\net Mme VEYSSIERE Guy ET Marie-Christine (252), M. et Mme VINCENT JEAN-PAUL (1046), M. WELTE Jean-Baptiste (438)\n\nCette résolution n'est pas adoptée à la majorité absolue de 50231 voix sur 100460 voix, conformément à l'article 25 de la loi du 10\n\njuillet 1965. Cependant, le projet présenté ayant obtenu l'adhésion d'au moins le tiers des voix du syndicat, l'assemblée procède\nimmédiatement à un second vote aux conditions de majorité de l'article 24 de la loi du 10 juillet 1965.\n\nSecond vote sur la proposition :\n\nPrésents et Représentés ou 82 43066 voix / 100460 voix\n\nayant voté par correspondance :\n\nOnt voté contre : 2 521 Voix / 100460 voix\nM. et Mme BHAIDJY Naziraly et Asikaly (81), M. et Mme NICAUD BENJAMIN (440)\n\nAbstentions : 6 7797 voix / 100460 voix\n\nSuccession BATTAIL . (7139), Mme BETTAN NICOLE (172), Mme BOUTOT YVETTE (162), M. CADOCH DELMAR Laurent (118), M. et Mme COIRATON\nBRUNO (37), M. HERSCOVICI ALAIN (169)\n\nOnt voté pour : 74 34748 voix / 100460 voix\n\nCette résolution est adoptée à la majorité simple de 17635 voix sur 35269 voix ee” à l'article 24 de la loi du\n\n10 juillet 1965. ME\n\nŸ\n\nè\n\nPV AG LE VERMANDOIS\n\nProcès-verbal! conforme à l'original dûment signé par le président, le ou les scrutateurs s'il en a été désigné(s) et le secrétaire Paraphes\n\f --> Text length need to be between 0 and 5000 characters"
          ]
        }
      ],
      "source": [
        "import os\n",
        "from pdf2image import convert_from_path\n",
        "import pytesseract\n",
        "from deep_translator import GoogleTranslator\n",
        "\n",
        "# 设置 Tesseract OCR 的路径（Windows 用户）\n",
        "# pytesseract.pytesseract.tesseract_cmd = r\"C:\\Program Files\\Tesseract-OCR\\tesseract.exe\"\n",
        "\n",
        "# Set Tesseract OCR path\n",
        "pytesseract.pytesseract.tesseract_cmd = \"/usr/bin/tesseract\"\n",
        "\n",
        "# 设定输入/输出路径\n",
        "PDF_FILE = \"/content/2024syndicatfile.pdf\"    # 你的 PDF 文件\n",
        "OUTPUT_TEXT_FILE = \"/content/file_original.txt\"  # 识别后的文本\n",
        "TRANSLATED_FILE = \"/content/file_original_translated.docx\"  # 翻译后的文本\n",
        "\n",
        "# Step 1: PDF 转 图片\n",
        "print(\"📄 正在将 PDF 转换为图片...\")\n",
        "images = convert_from_path(PDF_FILE, dpi=300)\n",
        "\n",
        "# Step 2: 逐页 OCR 识别法语文本\n",
        "print(\"🔍 进行 OCR 识别...\")\n",
        "all_text = []\n",
        "for i, img in enumerate(images):\n",
        "    text = pytesseract.image_to_string(img, lang=\"fra\")  # 设定法语识别\n",
        "    all_text.append(text)\n",
        "    print(f\"✅ 第 {i+1} 页识别完成\")\n",
        "\n",
        "# 保存 OCR 识别文本\n",
        "with open(OUTPUT_TEXT_FILE, \"w\", encoding=\"utf-8\") as f:\n",
        "    f.write(\"\\n\\n\".join(all_text))\n",
        "\n",
        "print(f\"📄 OCR 识别完成，文本已保存至 {OUTPUT_TEXT_FILE}\")\n"
      ]
    },
    {
      "cell_type": "code",
      "source": [
        "# Function to split text into chunks within the 5000-character limit\n",
        "def split_text(text, max_chars=500):\n",
        "    \"\"\"Splits text into smaller chunks (max_chars limit) for translation.\"\"\"\n",
        "    sentences = text.split(\". \")  # Split by sentences\n",
        "    chunks = []\n",
        "    current_chunk = \"\"\n",
        "\n",
        "    for sentence in sentences:\n",
        "        if len(current_chunk) + len(sentence) < max_chars:\n",
        "            current_chunk += sentence + \". \"\n",
        "        else:\n",
        "            chunks.append(current_chunk.strip())\n",
        "            current_chunk = sentence + \". \"\n",
        "\n",
        "    if current_chunk:\n",
        "        chunks.append(current_chunk.strip())\n",
        "\n",
        "    return chunks\n",
        "\n",
        "# Initialize translator\n",
        "translator = GoogleTranslator(source=\"fr\", target=\"zh-CN\")\n",
        "\n",
        "# Translate page by page, handling long text\n",
        "translated_pages = []\n",
        "for page in all_text:\n",
        "    chunks = split_text(page, max_chars=500)  # Split long pages\n",
        "    translated_chunks = [translator.translate(chunk) for chunk in chunks]  # Translate each chunk\n",
        "    translated_pages.append(\"\\n\".join(translated_chunks))  # Merge chunks back\n",
        "    print(f\"✅ 第 {i+1} 页翻译完成\")\n",
        "\n",
        "# Save translated text\n",
        "TRANSLATED_FILE = \"/content/translated.txt\"\n",
        "with open(TRANSLATED_FILE, \"w\", encoding=\"utf-8\") as f:\n",
        "    f.write(\"\\n\\n\".join(translated_pages))\n",
        "\n",
        "print(f\"✅ Translated text saved to {TRANSLATED_FILE}\")"
      ],
      "metadata": {
        "id": "_VSRLMCtXFyY",
        "outputId": "9eaf3fb8-8d71-42e9-9d36-2265ec54fb9d",
        "colab": {
          "base_uri": "https://localhost:8080/"
        }
      },
      "execution_count": 11,
      "outputs": [
        {
          "output_type": "stream",
          "name": "stdout",
          "text": [
            "✅ Translated text saved to /content/translated.txt\n"
          ]
        }
      ]
    }
  ],
  "metadata": {
    "kernelspec": {
      "display_name": "Python 3",
      "language": "python",
      "name": "python3"
    },
    "language_info": {
      "codemirror_mode": {
        "name": "ipython",
        "version": 3
      },
      "file_extension": ".py",
      "mimetype": "text/x-python",
      "name": "python",
      "nbconvert_exporter": "python",
      "pygments_lexer": "ipython3",
      "version": "3.9.13"
    },
    "colab": {
      "provenance": []
    }
  },
  "nbformat": 4,
  "nbformat_minor": 0
}